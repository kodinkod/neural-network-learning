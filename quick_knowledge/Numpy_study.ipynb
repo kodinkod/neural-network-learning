{
 "cells": [
  {
   "attachments": {},
   "cell_type": "markdown",
   "metadata": {},
   "source": [
    "# numpy\n"
   ]
  },
  {
   "cell_type": "code",
   "execution_count": 10,
   "metadata": {},
   "outputs": [],
   "source": [
    "import numpy as np"
   ]
  },
  {
   "attachments": {},
   "cell_type": "markdown",
   "metadata": {},
   "source": [
    "#### Инициализация массивовов, преобразовние типов данных"
   ]
  },
  {
   "cell_type": "code",
   "execution_count": 30,
   "metadata": {},
   "outputs": [
    {
     "name": "stdout",
     "output_type": "stream",
     "text": [
      "[1 2 3 4]\n",
      "<class 'numpy.ndarray'>\n",
      "[ 1.2 -2.   3.   4. ]\n",
      "float64\n"
     ]
    }
   ],
   "source": [
    "a1 = np.array([1,2,3,4])\n",
    "print(a1)\n",
    "print(type(a1))\n",
    "\n",
    "a2 = np.array([1.2, -2, 3, 4])\n",
    "print(a2)\n",
    "print(a2.dtype) "
   ]
  },
  {
   "cell_type": "code",
   "execution_count": 31,
   "metadata": {},
   "outputs": [
    {
     "name": "stdout",
     "output_type": "stream",
     "text": [
      "(4,)\n",
      "int64\n"
     ]
    }
   ],
   "source": [
    "# атрибуты\n",
    "print(a1.shape)\n",
    "print(a1.dtype) # массив однотипных данных\n"
   ]
  },
  {
   "cell_type": "code",
   "execution_count": 32,
   "metadata": {},
   "outputs": [
    {
     "name": "stdout",
     "output_type": "stream",
     "text": [
      "['1' '2' '-5' 'hello']\n"
     ]
    }
   ],
   "source": [
    "vau = np.array([1, 2, -5, 'hello'])\n",
    "print(vau) # все сделал строками "
   ]
  },
  {
   "cell_type": "code",
   "execution_count": 33,
   "metadata": {},
   "outputs": [
    {
     "name": "stdout",
     "output_type": "stream",
     "text": [
      "[ 1.2 -2.   3.   4. ]\n",
      "[1 0 3 4]\n"
     ]
    },
    {
     "name": "stderr",
     "output_type": "stream",
     "text": [
      "/var/folders/tw/0xxcpj311px323qzr54yqgkr0000gn/T/ipykernel_30670/1613037006.py:2: RuntimeWarning: invalid value encountered in cast\n",
      "  a2 = a2.astype(np.uint64)\n"
     ]
    }
   ],
   "source": [
    "print(a2)\n",
    "a2 = a2.astype(np.uint64)\n",
    "print(a2)"
   ]
  },
  {
   "attachments": {},
   "cell_type": "markdown",
   "metadata": {},
   "source": [
    "### Случайное распределение близкие к нормальное"
   ]
  },
  {
   "cell_type": "code",
   "execution_count": 35,
   "metadata": {},
   "outputs": [
    {
     "data": {
      "text/plain": [
       "array([ 0.45850852, -1.22955413, -0.91121107, -0.41057628,  0.03693874])"
      ]
     },
     "execution_count": 35,
     "metadata": {},
     "output_type": "execute_result"
    }
   ],
   "source": [
    "a3 = np.random.randn(5)\n",
    "a3"
   ]
  },
  {
   "cell_type": "code",
   "execution_count": 38,
   "metadata": {},
   "outputs": [
    {
     "data": {
      "text/plain": [
       "-0.41117884527850396"
      ]
     },
     "execution_count": 38,
     "metadata": {},
     "output_type": "execute_result"
    }
   ],
   "source": [
    "np.mean(a3) # мат ожидание "
   ]
  },
  {
   "cell_type": "code",
   "execution_count": 39,
   "metadata": {},
   "outputs": [
    {
     "data": {
      "text/plain": [
       "0.37538723712572164"
      ]
     },
     "execution_count": 39,
     "metadata": {},
     "output_type": "execute_result"
    }
   ],
   "source": [
    "np.var(a3) # отклонение"
   ]
  },
  {
   "attachments": {},
   "cell_type": "markdown",
   "metadata": {},
   "source": [
    "### Матрицы"
   ]
  },
  {
   "cell_type": "code",
   "execution_count": 41,
   "metadata": {},
   "outputs": [
    {
     "name": "stdout",
     "output_type": "stream",
     "text": [
      "[[1 2 3]\n",
      " [3 4 5]\n",
      " [5 6 7]]\n"
     ]
    }
   ],
   "source": [
    "arr2d = np.array([[1,2,3],[3,4,5],[5,6,7]])\n",
    "print(arr2d)"
   ]
  },
  {
   "cell_type": "code",
   "execution_count": 44,
   "metadata": {},
   "outputs": [
    {
     "data": {
      "text/plain": [
       "(3, 3)"
      ]
     },
     "execution_count": 44,
     "metadata": {},
     "output_type": "execute_result"
    }
   ],
   "source": [
    "arr2d.shape"
   ]
  },
  {
   "cell_type": "code",
   "execution_count": 43,
   "metadata": {},
   "outputs": [
    {
     "data": {
      "text/plain": [
       "array([[ 0.5877905 , -0.26718475, -1.49666262],\n",
       "       [ 0.83433992, -1.12660246,  0.20354067]])"
      ]
     },
     "execution_count": 43,
     "metadata": {},
     "output_type": "execute_result"
    }
   ],
   "source": [
    "np.random.randn(2,3)"
   ]
  },
  {
   "cell_type": "code",
   "execution_count": 46,
   "metadata": {},
   "outputs": [
    {
     "name": "stdout",
     "output_type": "stream",
     "text": [
      "2\n",
      "2\n"
     ]
    }
   ],
   "source": [
    "print(arr2d[0][1])\n",
    "print(arr2d[0,1])"
   ]
  },
  {
   "cell_type": "code",
   "execution_count": 48,
   "metadata": {},
   "outputs": [
    {
     "name": "stdout",
     "output_type": "stream",
     "text": [
      "[[1 2 3]\n",
      " [5 6 5]\n",
      " [7 8 7]]\n"
     ]
    }
   ],
   "source": [
    "arr2d[1:,:2] = [[5, 6], [7, 8]] # срез заменяем на срез # c первой строки до второго столбца\n",
    "print(arr2d)"
   ]
  },
  {
   "cell_type": "code",
   "execution_count": 49,
   "metadata": {},
   "outputs": [
    {
     "name": "stdout",
     "output_type": "stream",
     "text": [
      "[[1 2 3]\n",
      " [5 6 5]\n",
      " [5 6 7]]\n"
     ]
    }
   ],
   "source": [
    "arr2d[1:,:2] = [[5, 6]] #[[3]]\n",
    "print(arr2d) # дублирует "
   ]
  },
  {
   "cell_type": "code",
   "execution_count": 50,
   "metadata": {},
   "outputs": [
    {
     "name": "stdout",
     "output_type": "stream",
     "text": [
      "[[1 2 3]\n",
      " [3 3 5]\n",
      " [3 3 7]]\n"
     ]
    }
   ],
   "source": [
    "arr2d[1:,:2] = [[3]]\n",
    "print(arr2d) # дублирует "
   ]
  },
  {
   "attachments": {},
   "cell_type": "markdown",
   "metadata": {},
   "source": [
    "#### Случайные массивы"
   ]
  },
  {
   "cell_type": "code",
   "execution_count": 52,
   "metadata": {},
   "outputs": [
    {
     "data": {
      "text/plain": [
       "array([0.12111426, 0.89642585, 0.77186112, 0.01261718, 0.60989451])"
      ]
     },
     "execution_count": 52,
     "metadata": {},
     "output_type": "execute_result"
    }
   ],
   "source": [
    "a4 = np.random.random(5)\n",
    "a4"
   ]
  },
  {
   "cell_type": "code",
   "execution_count": 59,
   "metadata": {},
   "outputs": [
    {
     "data": {
      "text/plain": [
       "array([0.12111426, 0.89642585, 0.77186112, 0.01261718, 0.60989451])"
      ]
     },
     "execution_count": 59,
     "metadata": {},
     "output_type": "execute_result"
    }
   ],
   "source": [
    "a5 = np.empty(5) # псевдо случайные числа берет из буфера или печатает непойми что\n",
    "a5"
   ]
  },
  {
   "attachments": {},
   "cell_type": "markdown",
   "metadata": {},
   "source": [
    "#### Про копирование "
   ]
  },
  {
   "cell_type": "code",
   "execution_count": 68,
   "metadata": {},
   "outputs": [
    {
     "name": "stdout",
     "output_type": "stream",
     "text": [
      "[1.00000000e+02 8.96425850e-01 7.71861115e-01 1.26171819e-02\n",
      " 6.09894506e-01]\n"
     ]
    }
   ],
   "source": [
    "a6 = a5.copy()\n",
    "print(a6)\n"
   ]
  },
  {
   "cell_type": "code",
   "execution_count": 69,
   "metadata": {},
   "outputs": [
    {
     "data": {
      "text/plain": [
       "array([1.        , 0.7145531 , 0.64801035, 0.01261651, 0.54405283])"
      ]
     },
     "execution_count": 69,
     "metadata": {},
     "output_type": "execute_result"
    }
   ],
   "source": [
    "np.tanh(a6)"
   ]
  },
  {
   "attachments": {},
   "cell_type": "markdown",
   "metadata": {},
   "source": [
    "#### Выборка данных"
   ]
  },
  {
   "cell_type": "code",
   "execution_count": 73,
   "metadata": {},
   "outputs": [
    {
     "name": "stdout",
     "output_type": "stream",
     "text": [
      "[ True False False False False]\n"
     ]
    }
   ],
   "source": [
    "mask = (a5 >= 5) | (a5<0) #маска\n",
    "print(mask)"
   ]
  },
  {
   "cell_type": "code",
   "execution_count": 74,
   "metadata": {},
   "outputs": [
    {
     "data": {
      "text/plain": [
       "array([100.])"
      ]
     },
     "execution_count": 74,
     "metadata": {},
     "output_type": "execute_result"
    }
   ],
   "source": [
    "a5[mask] # сделали выборку "
   ]
  },
  {
   "cell_type": "code",
   "execution_count": 75,
   "metadata": {},
   "outputs": [
    {
     "name": "stdout",
     "output_type": "stream",
     "text": [
      "[0.12111426 0.89642585 0.77186112 0.01261718 0.60989451]\n",
      "[1.00000000e+02 8.96425850e-01 7.71861115e-01 1.26171819e-02\n",
      " 6.09894506e-01]\n"
     ]
    }
   ],
   "source": [
    "print(a4, a5, sep='\\n')"
   ]
  },
  {
   "cell_type": "code",
   "execution_count": 77,
   "metadata": {},
   "outputs": [
    {
     "data": {
      "text/plain": [
       "array([], dtype=float64)"
      ]
     },
     "execution_count": 77,
     "metadata": {},
     "output_type": "execute_result"
    }
   ],
   "source": [
    "a5[a5>a6] # потому что a5 и a6 одинаковые "
   ]
  },
  {
   "cell_type": "code",
   "execution_count": 79,
   "metadata": {},
   "outputs": [
    {
     "data": {
      "text/plain": [
       "array([ 0.45850852, -1.22955413, -0.91121107, -0.41057628,  0.60989451])"
      ]
     },
     "execution_count": 79,
     "metadata": {},
     "output_type": "execute_result"
    }
   ],
   "source": [
    "np.where(abs(a3)>abs(a4), a3, a4) # условие, если правда, если ложь"
   ]
  },
  {
   "cell_type": "code",
   "execution_count": 80,
   "metadata": {},
   "outputs": [
    {
     "data": {
      "text/plain": [
       "array([0.45850852, 0.89642585, 0.77186112, 0.01261718, 0.60989451])"
      ]
     },
     "execution_count": 80,
     "metadata": {},
     "output_type": "execute_result"
    }
   ],
   "source": [
    "np.maximum(a3, a4) "
   ]
  },
  {
   "attachments": {},
   "cell_type": "markdown",
   "metadata": {},
   "source": [
    "#### Сортировка данных "
   ]
  },
  {
   "cell_type": "code",
   "execution_count": 85,
   "metadata": {},
   "outputs": [
    {
     "name": "stdout",
     "output_type": "stream",
     "text": [
      "[ -4.2179801  -14.35822836  -8.81983099 -12.21680582   9.64784559]\n",
      "[-14.35822836 -12.21680582  -8.81983099  -4.2179801    9.64784559]\n"
     ]
    }
   ],
   "source": [
    "a8 = np.random.randn(5)*10\n",
    "print(a8)\n",
    "a8.sort()\n",
    "print(a8)"
   ]
  },
  {
   "cell_type": "code",
   "execution_count": 107,
   "metadata": {},
   "outputs": [
    {
     "name": "stdout",
     "output_type": "stream",
     "text": [
      "[[ -2.23322518   4.14989098  19.89384869]\n",
      " [-14.38125852  -4.30745663   0.94932522]\n",
      " [ -8.42897202  17.87090991   2.19620806]]\n"
     ]
    }
   ],
   "source": [
    "arr3d = np.random.randn(3,3)*10\n",
    "print(arr3d)"
   ]
  },
  {
   "cell_type": "code",
   "execution_count": 108,
   "metadata": {},
   "outputs": [
    {
     "data": {
      "text/plain": [
       "array([[-14.38125852,  -4.30745663,   0.94932522],\n",
       "       [ -8.42897202,   4.14989098,   2.19620806],\n",
       "       [ -2.23322518,  17.87090991,  19.89384869]])"
      ]
     },
     "execution_count": 108,
     "metadata": {},
     "output_type": "execute_result"
    }
   ],
   "source": [
    "arr3d.sort(axis=0) # сортировка вдоль оси ноль по строкам\n",
    "arr3d"
   ]
  },
  {
   "cell_type": "code",
   "execution_count": 109,
   "metadata": {},
   "outputs": [
    {
     "data": {
      "text/plain": [
       "array([[-14.38125852,  -4.30745663,   0.94932522],\n",
       "       [ -8.42897202,   2.19620806,   4.14989098],\n",
       "       [ -2.23322518,  17.87090991,  19.89384869]])"
      ]
     },
     "execution_count": 109,
     "metadata": {},
     "output_type": "execute_result"
    }
   ],
   "source": [
    "arr3d.sort(axis=1) # сортировка по столбцам\n",
    "arr3d"
   ]
  },
  {
   "attachments": {},
   "cell_type": "markdown",
   "metadata": {},
   "source": [
    "#### Некоторые функции"
   ]
  },
  {
   "cell_type": "code",
   "execution_count": 96,
   "metadata": {},
   "outputs": [
    {
     "data": {
      "text/plain": [
       "array([-14.24529129,  -7.21546366,  -4.38102443,  -3.24684325,\n",
       "        -1.02866418,  -0.50042943,   6.11490126,   7.59278508,\n",
       "        16.9106125 ])"
      ]
     },
     "execution_count": 96,
     "metadata": {},
     "output_type": "execute_result"
    }
   ],
   "source": [
    "np.unique(arr2d)"
   ]
  },
  {
   "cell_type": "code",
   "execution_count": 104,
   "metadata": {},
   "outputs": [
    {
     "name": "stdout",
     "output_type": "stream",
     "text": [
      "[  4.58508521 -12.29554134  -9.1121107   -4.10576281   0.36938738]\n",
      "[ 0.58508521 -0.29554134 -0.1121107  -0.10576281  0.36938738]\n",
      "[  4. -12.  -9.  -4.   0.]\n"
     ]
    }
   ],
   "source": [
    "# раскидали на целые и дробыне \n",
    "r, d = np.modf(a3*10)\n",
    "print(a3*10)\n",
    "print(r)\n",
    "print(d)"
   ]
  },
  {
   "cell_type": "code",
   "execution_count": 118,
   "metadata": {},
   "outputs": [
    {
     "name": "stdout",
     "output_type": "stream",
     "text": [
      "[ 0.45850852 -1.22955413 -0.91121107 -0.41057628  0.03693874]\n"
     ]
    },
    {
     "data": {
      "text/plain": [
       "array([ 1., -1., -1., -1.,  1.])"
      ]
     },
     "execution_count": 118,
     "metadata": {},
     "output_type": "execute_result"
    }
   ],
   "source": [
    "print(a3)\n",
    "np.sign(a3)"
   ]
  },
  {
   "cell_type": "code",
   "execution_count": 120,
   "metadata": {},
   "outputs": [
    {
     "name": "stdout",
     "output_type": "stream",
     "text": [
      "[[-1.  1. -1.]\n",
      " [-1. -1. -1.]\n",
      " [-1.  1.  1.]]\n"
     ]
    }
   ],
   "source": [
    "print(np.sign(arr2d))"
   ]
  }
 ],
 "metadata": {
  "kernelspec": {
   "display_name": "Python 3",
   "language": "python",
   "name": "python3"
  },
  "language_info": {
   "codemirror_mode": {
    "name": "ipython",
    "version": 3
   },
   "file_extension": ".py",
   "mimetype": "text/x-python",
   "name": "python",
   "nbconvert_exporter": "python",
   "pygments_lexer": "ipython3",
   "version": "3.8.13"
  },
  "orig_nbformat": 4,
  "vscode": {
   "interpreter": {
    "hash": "61c6b52aa7a193b32d945311ac88619776407f985ed5a58e3470b057623c4e5a"
   }
  }
 },
 "nbformat": 4,
 "nbformat_minor": 2
}
