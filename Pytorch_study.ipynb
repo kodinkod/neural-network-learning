{
  "nbformat": 4,
  "nbformat_minor": 0,
  "metadata": {
    "colab": {
      "provenance": [],
      "authorship_tag": "ABX9TyPTtQycUi/ppRm205y5D4DT",
      "include_colab_link": true
    },
    "kernelspec": {
      "name": "python3",
      "display_name": "Python 3"
    },
    "language_info": {
      "name": "python"
    },
    "accelerator": "GPU",
    "gpuClass": "standard"
  },
  "cells": [
    {
      "cell_type": "markdown",
      "metadata": {
        "id": "view-in-github",
        "colab_type": "text"
      },
      "source": [
        "<a href=\"https://colab.research.google.com/github/kodinkod/neural-network-learning/blob/main/Pytorch_study.ipynb\" target=\"_parent\"><img src=\"https://colab.research.google.com/assets/colab-badge.svg\" alt=\"Open In Colab\"/></a>"
      ]
    },
    {
      "cell_type": "markdown",
      "source": [
        "Ноутбук для изучения пайторча"
      ],
      "metadata": {
        "id": "i3NETzqy930T"
      }
    },
    {
      "cell_type": "code",
      "execution_count": 3,
      "metadata": {
        "id": "gBAjl0K99svk"
      },
      "outputs": [],
      "source": [
        "import torch"
      ]
    },
    {
      "cell_type": "code",
      "source": [
        "torch.zeros([2,3])"
      ],
      "metadata": {
        "colab": {
          "base_uri": "https://localhost:8080/"
        },
        "id": "uGJvCLOhDzDf",
        "outputId": "72894740-2e38-4bba-db32-74d9b4f5d243"
      },
      "execution_count": 4,
      "outputs": [
        {
          "output_type": "execute_result",
          "data": {
            "text/plain": [
              "tensor([[0., 0., 0.],\n",
              "        [0., 0., 0.]])"
            ]
          },
          "metadata": {},
          "execution_count": 4
        }
      ]
    },
    {
      "cell_type": "code",
      "source": [
        "torch.ones([3,2,3])"
      ],
      "metadata": {
        "colab": {
          "base_uri": "https://localhost:8080/"
        },
        "id": "F0LKOZYUD4Zb",
        "outputId": "8dd69f58-f7d8-410b-8d52-79bbcba1bdc0"
      },
      "execution_count": 5,
      "outputs": [
        {
          "output_type": "execute_result",
          "data": {
            "text/plain": [
              "tensor([[[1., 1., 1.],\n",
              "         [1., 1., 1.]],\n",
              "\n",
              "        [[1., 1., 1.],\n",
              "         [1., 1., 1.]],\n",
              "\n",
              "        [[1., 1., 1.],\n",
              "         [1., 1., 1.]]])"
            ]
          },
          "metadata": {},
          "execution_count": 5
        }
      ]
    },
    {
      "cell_type": "code",
      "source": [
        "tmp = torch.Tensor([1,2,3])\n",
        "print(tmp.shape)\n",
        "print(tmp.unsqueeze(1))\n",
        "print(tmp.unsqueeze(1).shape)"
      ],
      "metadata": {
        "colab": {
          "base_uri": "https://localhost:8080/"
        },
        "id": "j7elDMhsD7uX",
        "outputId": "c2896c1e-696d-4ca1-d633-61122fbbbf83"
      },
      "execution_count": 6,
      "outputs": [
        {
          "output_type": "stream",
          "name": "stdout",
          "text": [
            "torch.Size([3])\n",
            "tensor([[1.],\n",
            "        [2.],\n",
            "        [3.]])\n",
            "torch.Size([3, 1])\n"
          ]
        }
      ]
    },
    {
      "cell_type": "code",
      "source": [
        "x = torch.ones([5,3])\n",
        "print(x)"
      ],
      "metadata": {
        "colab": {
          "base_uri": "https://localhost:8080/"
        },
        "id": "uhWSklWzEJj0",
        "outputId": "24054968-1c6c-4d3d-fd5c-2921c28b6166"
      },
      "execution_count": 7,
      "outputs": [
        {
          "output_type": "stream",
          "name": "stdout",
          "text": [
            "tensor([[1., 1., 1.],\n",
            "        [1., 1., 1.],\n",
            "        [1., 1., 1.],\n",
            "        [1., 1., 1.],\n",
            "        [1., 1., 1.]])\n"
          ]
        }
      ]
    },
    {
      "cell_type": "code",
      "source": [
        "x = x + 2\n",
        "print(x)"
      ],
      "metadata": {
        "colab": {
          "base_uri": "https://localhost:8080/"
        },
        "id": "QQ9gbhEDEqWp",
        "outputId": "e08fbfdd-d7fe-492a-b465-62b730c93b81"
      },
      "execution_count": 8,
      "outputs": [
        {
          "output_type": "stream",
          "name": "stdout",
          "text": [
            "tensor([[3., 3., 3.],\n",
            "        [3., 3., 3.],\n",
            "        [3., 3., 3.],\n",
            "        [3., 3., 3.],\n",
            "        [3., 3., 3.]])\n"
          ]
        }
      ]
    },
    {
      "cell_type": "code",
      "source": [
        "x**2"
      ],
      "metadata": {
        "colab": {
          "base_uri": "https://localhost:8080/"
        },
        "id": "EC6-DqEXEtWd",
        "outputId": "8af11be1-42cf-45cd-b882-8c59a072f61f"
      },
      "execution_count": 9,
      "outputs": [
        {
          "output_type": "execute_result",
          "data": {
            "text/plain": [
              "tensor([[9., 9., 9.],\n",
              "        [9., 9., 9.],\n",
              "        [9., 9., 9.],\n",
              "        [9., 9., 9.],\n",
              "        [9., 9., 9.]])"
            ]
          },
          "metadata": {},
          "execution_count": 9
        }
      ]
    },
    {
      "cell_type": "code",
      "source": [
        "x"
      ],
      "metadata": {
        "colab": {
          "base_uri": "https://localhost:8080/"
        },
        "id": "m3jMrHvAExjI",
        "outputId": "70602e20-393e-460d-81ab-9da5e2d2aa5a"
      },
      "execution_count": 10,
      "outputs": [
        {
          "output_type": "execute_result",
          "data": {
            "text/plain": [
              "tensor([[3., 3., 3.],\n",
              "        [3., 3., 3.],\n",
              "        [3., 3., 3.],\n",
              "        [3., 3., 3.],\n",
              "        [3., 3., 3.]])"
            ]
          },
          "metadata": {},
          "execution_count": 10
        }
      ]
    },
    {
      "cell_type": "code",
      "source": [
        "y = torch.ones([5,3])\n",
        "y+=10"
      ],
      "metadata": {
        "id": "q8QZD6Q3EyIc"
      },
      "execution_count": 11,
      "outputs": []
    },
    {
      "cell_type": "code",
      "source": [
        "x+ y"
      ],
      "metadata": {
        "colab": {
          "base_uri": "https://localhost:8080/"
        },
        "id": "r-kK8i__E2X0",
        "outputId": "0ef16e41-71e7-4990-eec2-71c67c783a05"
      },
      "execution_count": 12,
      "outputs": [
        {
          "output_type": "execute_result",
          "data": {
            "text/plain": [
              "tensor([[14., 14., 14.],\n",
              "        [14., 14., 14.],\n",
              "        [14., 14., 14.],\n",
              "        [14., 14., 14.],\n",
              "        [14., 14., 14.]])"
            ]
          },
          "metadata": {},
          "execution_count": 12
        }
      ]
    },
    {
      "cell_type": "code",
      "source": [
        "print(x)"
      ],
      "metadata": {
        "colab": {
          "base_uri": "https://localhost:8080/"
        },
        "id": "8YzAuwigE5c1",
        "outputId": "5e3d395f-e9da-4731-e308-907b6ded74fe"
      },
      "execution_count": 13,
      "outputs": [
        {
          "output_type": "stream",
          "name": "stdout",
          "text": [
            "tensor([[3., 3., 3.],\n",
            "        [3., 3., 3.],\n",
            "        [3., 3., 3.],\n",
            "        [3., 3., 3.],\n",
            "        [3., 3., 3.]])\n"
          ]
        }
      ]
    },
    {
      "cell_type": "code",
      "source": [
        "x>2"
      ],
      "metadata": {
        "colab": {
          "base_uri": "https://localhost:8080/"
        },
        "id": "wX8hNfKmE96h",
        "outputId": "a5be0a83-11df-451c-c550-7c1e5061612f"
      },
      "execution_count": 14,
      "outputs": [
        {
          "output_type": "execute_result",
          "data": {
            "text/plain": [
              "tensor([[True, True, True],\n",
              "        [True, True, True],\n",
              "        [True, True, True],\n",
              "        [True, True, True],\n",
              "        [True, True, True]])"
            ]
          },
          "metadata": {},
          "execution_count": 14
        }
      ]
    },
    {
      "cell_type": "code",
      "source": [
        "x = torch.sin(x)\n",
        "print(x)"
      ],
      "metadata": {
        "colab": {
          "base_uri": "https://localhost:8080/"
        },
        "id": "MpBarCV1FA8u",
        "outputId": "f8e972c2-6f8f-48da-9645-e4c2b5d8b748"
      },
      "execution_count": 15,
      "outputs": [
        {
          "output_type": "stream",
          "name": "stdout",
          "text": [
            "tensor([[0.1411, 0.1411, 0.1411],\n",
            "        [0.1411, 0.1411, 0.1411],\n",
            "        [0.1411, 0.1411, 0.1411],\n",
            "        [0.1411, 0.1411, 0.1411],\n",
            "        [0.1411, 0.1411, 0.1411]])\n"
          ]
        }
      ]
    },
    {
      "cell_type": "code",
      "source": [
        "x = (x * 10)\n",
        "print(x)"
      ],
      "metadata": {
        "colab": {
          "base_uri": "https://localhost:8080/"
        },
        "id": "9t1qnaqzFDbI",
        "outputId": "55c0a1e8-a342-4f74-cb41-01454c074a0b"
      },
      "execution_count": 16,
      "outputs": [
        {
          "output_type": "stream",
          "name": "stdout",
          "text": [
            "tensor([[1.4112, 1.4112, 1.4112],\n",
            "        [1.4112, 1.4112, 1.4112],\n",
            "        [1.4112, 1.4112, 1.4112],\n",
            "        [1.4112, 1.4112, 1.4112],\n",
            "        [1.4112, 1.4112, 1.4112]])\n"
          ]
        }
      ]
    },
    {
      "cell_type": "code",
      "source": [
        "print(x[x>3])\n",
        "print(x[x<3])"
      ],
      "metadata": {
        "colab": {
          "base_uri": "https://localhost:8080/"
        },
        "id": "0w9OWPFdFQPM",
        "outputId": "1c6db6ce-ea2e-48f3-b08b-36ba0b63084e"
      },
      "execution_count": 17,
      "outputs": [
        {
          "output_type": "stream",
          "name": "stdout",
          "text": [
            "tensor([])\n",
            "tensor([1.4112, 1.4112, 1.4112, 1.4112, 1.4112, 1.4112, 1.4112, 1.4112, 1.4112,\n",
            "        1.4112, 1.4112, 1.4112, 1.4112, 1.4112, 1.4112])\n"
          ]
        }
      ]
    },
    {
      "cell_type": "markdown",
      "source": [
        "Важно! Копирование элементов "
      ],
      "metadata": {
        "id": "4xzLkKV_FYR-"
      }
    },
    {
      "cell_type": "code",
      "source": [
        "z = x # нельзя !!\n",
        "z = x.clone"
      ],
      "metadata": {
        "id": "WQBXJQ7uFTb6"
      },
      "execution_count": 18,
      "outputs": []
    },
    {
      "cell_type": "code",
      "source": [
        "import numpy as np"
      ],
      "metadata": {
        "id": "4PzHQzC6Fmpp"
      },
      "execution_count": 19,
      "outputs": []
    },
    {
      "cell_type": "code",
      "source": [
        "x = np.array([[1,2,3],\n",
        "              [4,5,6]])\n",
        "print(x)"
      ],
      "metadata": {
        "colab": {
          "base_uri": "https://localhost:8080/"
        },
        "id": "H9cdEtMWGBQC",
        "outputId": "ddbc906c-7b1e-492c-e047-7046834667ca"
      },
      "execution_count": 20,
      "outputs": [
        {
          "output_type": "stream",
          "name": "stdout",
          "text": [
            "[[1 2 3]\n",
            " [4 5 6]]\n"
          ]
        }
      ]
    },
    {
      "cell_type": "code",
      "source": [
        "x_tensor = torch.from_numpy(x)\n",
        "print(x_tensor)\n",
        "print(type(x_tensor))"
      ],
      "metadata": {
        "colab": {
          "base_uri": "https://localhost:8080/"
        },
        "id": "qXazeBCpGH2B",
        "outputId": "fe96c1ad-93d1-465f-e2da-2c5cd1952f54"
      },
      "execution_count": 21,
      "outputs": [
        {
          "output_type": "stream",
          "name": "stdout",
          "text": [
            "tensor([[1, 2, 3],\n",
            "        [4, 5, 6]])\n",
            "<class 'torch.Tensor'>\n"
          ]
        }
      ]
    },
    {
      "cell_type": "code",
      "source": [
        "x = torch.rand([200,300])\n",
        "print(x)"
      ],
      "metadata": {
        "colab": {
          "base_uri": "https://localhost:8080/"
        },
        "id": "NRomMnu7GTWl",
        "outputId": "f3036c77-5587-425d-ea84-2f00e3c99daf"
      },
      "execution_count": 22,
      "outputs": [
        {
          "output_type": "stream",
          "name": "stdout",
          "text": [
            "tensor([[0.9298, 0.3247, 0.1317,  ..., 0.1203, 0.1815, 0.9164],\n",
            "        [0.2285, 0.7829, 0.1977,  ..., 0.0850, 0.0038, 0.4305],\n",
            "        [0.2723, 0.6795, 0.0347,  ..., 0.0173, 0.4595, 0.7556],\n",
            "        ...,\n",
            "        [0.4070, 0.2051, 0.1762,  ..., 0.0620, 0.3773, 0.7170],\n",
            "        [0.8602, 0.2440, 0.6247,  ..., 0.4306, 0.0710, 0.6417],\n",
            "        [0.6659, 0.0309, 0.1461,  ..., 0.1628, 0.6315, 0.8613]])\n"
          ]
        }
      ]
    },
    {
      "cell_type": "markdown",
      "source": [
        "Использование торч cuda для загрузки на GPU  для ускорения работы "
      ],
      "metadata": {
        "id": "zBo68mPkG6Is"
      }
    },
    {
      "cell_type": "code",
      "source": [
        "# Returns a bool indicating if CUDA is currently available.\n",
        "torch.cuda.is_available()"
      ],
      "metadata": {
        "colab": {
          "base_uri": "https://localhost:8080/"
        },
        "id": "ubivZ7HJGxa9",
        "outputId": "b11765f0-a447-4ab7-c17b-af20d97acdee"
      },
      "execution_count": 23,
      "outputs": [
        {
          "output_type": "execute_result",
          "data": {
            "text/plain": [
              "True"
            ]
          },
          "metadata": {},
          "execution_count": 23
        }
      ]
    },
    {
      "cell_type": "code",
      "source": [
        "torch.device('cuda:0') # Context-manager that changes the selected device."
      ],
      "metadata": {
        "colab": {
          "base_uri": "https://localhost:8080/"
        },
        "id": "vAVXvHmOHRoF",
        "outputId": "c78142f5-0a7a-4c4b-cd6e-3c2f0c70780a"
      },
      "execution_count": 25,
      "outputs": [
        {
          "output_type": "execute_result",
          "data": {
            "text/plain": [
              "device(type='cuda', index=0)"
            ]
          },
          "metadata": {},
          "execution_count": 25
        }
      ]
    },
    {
      "cell_type": "code",
      "source": [
        "device = torch.device('cuda:0' if torch.cuda.is_available() else 'cpu')\n",
        "device"
      ],
      "metadata": {
        "colab": {
          "base_uri": "https://localhost:8080/"
        },
        "id": "0EPcjdaIH-dJ",
        "outputId": "c8835ecb-18f5-4158-bb44-47aae17f7493"
      },
      "execution_count": 27,
      "outputs": [
        {
          "output_type": "execute_result",
          "data": {
            "text/plain": [
              "device(type='cuda', index=0)"
            ]
          },
          "metadata": {},
          "execution_count": 27
        }
      ]
    },
    {
      "cell_type": "code",
      "source": [
        "x_cuda = x.to(device)\n",
        "print(x_cuda)"
      ],
      "metadata": {
        "colab": {
          "base_uri": "https://localhost:8080/"
        },
        "id": "BXvqa-vQIcYt",
        "outputId": "cb7b5192-eb00-4687-c963-99052c15ccc3"
      },
      "execution_count": 40,
      "outputs": [
        {
          "output_type": "stream",
          "name": "stdout",
          "text": [
            "tensor([[0.9298, 0.3247, 0.1317,  ..., 0.1203, 0.1815, 0.9164],\n",
            "        [0.2285, 0.7829, 0.1977,  ..., 0.0850, 0.0038, 0.4305],\n",
            "        [0.2723, 0.6795, 0.0347,  ..., 0.0173, 0.4595, 0.7556],\n",
            "        ...,\n",
            "        [0.4070, 0.2051, 0.1762,  ..., 0.0620, 0.3773, 0.7170],\n",
            "        [0.8602, 0.2440, 0.6247,  ..., 0.4306, 0.0710, 0.6417],\n",
            "        [0.6659, 0.0309, 0.1461,  ..., 0.1628, 0.6315, 0.8613]],\n",
            "       device='cuda:0')\n"
          ]
        }
      ]
    },
    {
      "cell_type": "code",
      "source": [
        "# сравним время выполенения # выполянение на девайсе быстрей чем обычные вычисления \n",
        "\n",
        "%time y = (x-x+x*10.0)**2"
      ],
      "metadata": {
        "colab": {
          "base_uri": "https://localhost:8080/"
        },
        "id": "CMu8_x4QImEK",
        "outputId": "4cdcc91f-2230-40e7-dfb2-d0fbcf85c944"
      },
      "execution_count": 41,
      "outputs": [
        {
          "output_type": "stream",
          "name": "stdout",
          "text": [
            "CPU times: user 2.12 ms, sys: 42 µs, total: 2.16 ms\n",
            "Wall time: 1.56 ms\n"
          ]
        }
      ]
    },
    {
      "cell_type": "code",
      "source": [
        "%time y_cuda = (x_cuda-x_cuda+x_cuda*10.0)**2"
      ],
      "metadata": {
        "colab": {
          "base_uri": "https://localhost:8080/"
        },
        "id": "hoVgdApLI7J2",
        "outputId": "56ee1f40-a881-41e6-b80e-32f1bd0cc61f"
      },
      "execution_count": 42,
      "outputs": [
        {
          "output_type": "stream",
          "name": "stdout",
          "text": [
            "CPU times: user 246 µs, sys: 0 ns, total: 246 µs\n",
            "Wall time: 252 µs\n"
          ]
        }
      ]
    },
    {
      "cell_type": "markdown",
      "source": [
        "Производные"
      ],
      "metadata": {
        "id": "t55ySDheJYRB"
      }
    },
    {
      "cell_type": "code",
      "source": [
        "x = torch.tensor([[1., 2., 3., 4.],\n",
        "                  [5., 6., 7., 8.],\n",
        "                  [9., 10., 11., 12.]], requires_grad=True)\n",
        "print(x)"
      ],
      "metadata": {
        "colab": {
          "base_uri": "https://localhost:8080/"
        },
        "id": "HuypPbbzJAM-",
        "outputId": "c5a1c17c-683c-4ff8-de3f-175916d9c254"
      },
      "execution_count": 58,
      "outputs": [
        {
          "output_type": "stream",
          "name": "stdout",
          "text": [
            "tensor([[ 1.,  2.,  3.,  4.],\n",
            "        [ 5.,  6.,  7.,  8.],\n",
            "        [ 9., 10., 11., 12.]], requires_grad=True)\n"
          ]
        }
      ]
    },
    {
      "cell_type": "code",
      "source": [
        "function = 10 * ( x ** 2 ).sum()\n",
        "function.backward()\n",
        "\n",
        "print(x.grad,'<-- градиент x') # производная  = 20*x"
      ],
      "metadata": {
        "colab": {
          "base_uri": "https://localhost:8080/"
        },
        "id": "bKaIvHI6Jspg",
        "outputId": "2dbfc5e5-a5d1-4a84-d55a-42a2bb0a0547"
      },
      "execution_count": 60,
      "outputs": [
        {
          "output_type": "stream",
          "name": "stdout",
          "text": [
            "tensor([[ 40.,  80., 120., 160.],\n",
            "        [200., 240., 280., 320.],\n",
            "        [360., 400., 440., 480.]]) <-- градиент x\n"
          ]
        }
      ]
    },
    {
      "cell_type": "markdown",
      "source": [
        "## Нейросеть "
      ],
      "metadata": {
        "id": "rfqEUz28LQbh"
      }
    },
    {
      "cell_type": "code",
      "source": [
        "import matplotlib.pyplot as plt\n",
        "import matplotlib\n",
        "matplotlib.rcParams['figure.figsize']  = (25.0, 7.0)  # добавили размер окна "
      ],
      "metadata": {
        "id": "NODdikXxLS5x"
      },
      "execution_count": 276,
      "outputs": []
    },
    {
      "cell_type": "code",
      "source": [
        "x_train = torch.rand(500)\n",
        "x_train = x_train * 10.0 - 5.0\n",
        "\n",
        "y_sub_train = torch.cos(x_train)**2\n",
        "\n",
        "\n",
        "print('X train data -  ', x_train.shape)\n",
        "print('Y train data -  ', y_sub_train.shape)"
      ],
      "metadata": {
        "colab": {
          "base_uri": "https://localhost:8080/"
        },
        "id": "5NgsdU_BLp1u",
        "outputId": "0778f08a-9b74-4dcd-8152-9de434aafc7a"
      },
      "execution_count": 277,
      "outputs": [
        {
          "output_type": "stream",
          "name": "stdout",
          "text": [
            "X train data -   torch.Size([500])\n",
            "Y train data -   torch.Size([500])\n"
          ]
        }
      ]
    },
    {
      "cell_type": "code",
      "source": [
        "plt.plot(x_train.numpy(), y_sub_train.numpy(), '.')\n",
        "plt.title('$ y = cos^2(x) $')"
      ],
      "metadata": {
        "colab": {
          "base_uri": "https://localhost:8080/",
          "height": 409
        },
        "id": "C80yOd2PL8a2",
        "outputId": "b7b53762-a548-4e9b-9909-25ddb7f501c7"
      },
      "execution_count": 278,
      "outputs": [
        {
          "output_type": "execute_result",
          "data": {
            "text/plain": [
              "Text(0.5, 1.0, '$ y = cos^2(x) $')"
            ]
          },
          "metadata": {},
          "execution_count": 278
        },
        {
          "output_type": "display_data",
          "data": {
            "text/plain": [
              "<Figure size 1800x504 with 1 Axes>"
            ],
            "image/png": "[encoded data removed]"
          },
          "metadata": {
            "needs_background": "light"
          }
        }
      ]
    },
    {
      "cell_type": "code",
      "source": [
        "# создадим шумы для наших данных\n",
        "\n",
        "noisy = torch.rand(y_sub_train.shape) / 2\n",
        "\n",
        "plt.plot(x_train.numpy(), noisy.numpy(), '.')\n",
        "plt.title('$ y = noiz $')\n"
      ],
      "metadata": {
        "colab": {
          "base_uri": "https://localhost:8080/",
          "height": 407
        },
        "id": "buD_u6q2M26s",
        "outputId": "1d0e9cd1-2548-4fa4-f0bf-4477d660e552"
      },
      "execution_count": 279,
      "outputs": [
        {
          "output_type": "execute_result",
          "data": {
            "text/plain": [
              "Text(0.5, 1.0, '$ y = noiz $')"
            ]
          },
          "metadata": {},
          "execution_count": 279
        },
        {
          "output_type": "display_data",
          "data": {
            "text/plain": [
              "<Figure size 1800x504 with 1 Axes>"
            ],
            "image/png": "[encoded data removed]"
          },
          "metadata": {
            "needs_background": "light"
          }
        }
      ]
    },
    {
      "cell_type": "code",
      "source": [
        "y_train = y_sub_train + noisy\n",
        "\n",
        "plt.plot(x_train.numpy(), y_train.numpy(), '.')\n",
        "plt.title('$ y- noisy = cos^2(x) $')\n"
      ],
      "metadata": {
        "colab": {
          "base_uri": "https://localhost:8080/",
          "height": 409
        },
        "id": "wySZIJaJNU4z",
        "outputId": "f8d0a303-2f44-4d4d-8fc9-34cd8907cf45"
      },
      "execution_count": 280,
      "outputs": [
        {
          "output_type": "execute_result",
          "data": {
            "text/plain": [
              "Text(0.5, 1.0, '$ y- noisy = cos^2(x) $')"
            ]
          },
          "metadata": {},
          "execution_count": 280
        },
        {
          "output_type": "display_data",
          "data": {
            "text/plain": [
              "<Figure size 1800x504 with 1 Axes>"
            ],
            "image/png": "[encoded data removed]"
          },
          "metadata": {
            "needs_background": "light"
          }
        }
      ]
    },
    {
      "cell_type": "code",
      "source": [
        "x_train.unsqueeze_(1);  # unsqueeze_ '_' значит объект изменится\n",
        "y_sub_train.unsqueeze_(1); # unsqueeze_ '_' значит объект изменится"
      ],
      "metadata": {
        "id": "pZClkVGlNp8q"
      },
      "execution_count": 281,
      "outputs": []
    },
    {
      "cell_type": "code",
      "source": [
        "# данные для валиации \n",
        "x_val = torch.linspace(-5,5,100)\n",
        "y_val = torch.cos(x_val.data)**2\n",
        "plt.plot(x_val.numpy(), y_val.numpy(),'.')"
      ],
      "metadata": {
        "colab": {
          "base_uri": "https://localhost:8080/",
          "height": 391
        },
        "id": "iN1GQ1ymO3Lm",
        "outputId": "a77acc7e-f0e0-41c9-bef2-e3ead77ed0f7"
      },
      "execution_count": 282,
      "outputs": [
        {
          "output_type": "execute_result",
          "data": {
            "text/plain": [
              "[<matplotlib.lines.Line2D at 0x7fd75a18b910>]"
            ]
          },
          "metadata": {},
          "execution_count": 282
        },
        {
          "output_type": "display_data",
          "data": {
            "text/plain": [
              "<Figure size 1800x504 with 1 Axes>"
            ],
            "image/png": "[encoded data removed]"
          },
          "metadata": {
            "needs_background": "light"
          }
        }
      ]
    },
    {
      "cell_type": "code",
      "source": [
        "x_val.unsqueeze_(1);\n",
        "y_val.unsqueeze_(1);\n",
        "print(x_val.shape, y_val.shape)"
      ],
      "metadata": {
        "colab": {
          "base_uri": "https://localhost:8080/"
        },
        "id": "ZU5gZJFyPdvq",
        "outputId": "f77c8b06-317e-465f-9576-7edcbeba9474"
      },
      "execution_count": 283,
      "outputs": [
        {
          "output_type": "stream",
          "name": "stdout",
          "text": [
            "torch.Size([100, 1]) torch.Size([100, 1])\n"
          ]
        }
      ]
    },
    {
      "cell_type": "code",
      "source": [
        "class OurNet(torch.nn.Module):\n",
        "  def __init__(self, n_hid_n):\n",
        "    super(OurNet, self).__init__()\n",
        "    self.fc1 = torch.nn.Linear(1, n_hid_n) # скрытый слой 1й c 1 вход и  n_hid_n выходов  \n",
        "    self.act_1 = torch.nn.Sigmoid() # функция активации йго слоя \n",
        "    \n",
        "    #self.fc2 = torch.nn.Linear(n_hid_n, n_hid_n) # второй слой  n_hid_n - > n_hid_n\n",
        "    #self.act_2 = torch.nn.Sigmoid()\n",
        "#\n",
        "    #self.fc3 = torch.nn.Linear(n_hid_n, n_hid_n) # второй слой  n_hid_n - > n_hid_n\n",
        "    #self.act_3 = torch.nn.Sigmoid()\n",
        "\n",
        "    self.fc4 = torch.nn.Linear(n_hid_n, 1) # третий слой на выход n_hid_n - > 1\n",
        "\n",
        "  def forward(self, x):\n",
        "    x = self.fc1(x);\n",
        "    x = self.act_1(x);\n",
        "\n",
        "    #x = self.fc2(x);\n",
        "    #x = self.act_2(x);\n",
        "#\n",
        "    #x = self.fc3(x);\n",
        "    #x = self.act_3(x);\n",
        "\n",
        "    x = self.fc4(x);\n",
        "\n",
        "    return x"
      ],
      "metadata": {
        "id": "33d_G1EJP_Y-"
      },
      "execution_count": 300,
      "outputs": []
    },
    {
      "cell_type": "code",
      "source": [
        "our_net = OurNet(50) # создали сетку с 20 нейронами и 2 слоями "
      ],
      "metadata": {
        "id": "X2lN_xTtRakC"
      },
      "execution_count": 301,
      "outputs": []
    },
    {
      "cell_type": "code",
      "source": [
        "def predict(net,x,y):\n",
        "  y_predict = net.forward(x)\n",
        "\n",
        "  plt.plot(x.numpy(), y.numpy(), '.',c = 'g', label='То что должно быть')\n",
        "  plt.plot(x.numpy(), y_predict.data.numpy(), '.', c ='r', label='Предсказание')\n",
        "  plt.legend(loc='upper left')\n",
        "  "
      ],
      "metadata": {
        "id": "hZvafo29R_CA"
      },
      "execution_count": 302,
      "outputs": []
    },
    {
      "cell_type": "code",
      "source": [
        "predict(our_net, x_val, y_val) # Здесь нейросеть еще не обучена"
      ],
      "metadata": {
        "colab": {
          "base_uri": "https://localhost:8080/",
          "height": 374
        },
        "id": "HRzXqtBLSudm",
        "outputId": "305d2245-e0d1-467d-ca22-f4559c71efb1"
      },
      "execution_count": 303,
      "outputs": [
        {
          "output_type": "display_data",
          "data": {
            "text/plain": [
              "<Figure size 1800x504 with 1 Axes>"
            ],
            "image/png": "[encoded data removed]"
          },
          "metadata": {
            "needs_background": "light"
          }
        }
      ]
    },
    {
      "cell_type": "markdown",
      "source": [
        "Обучение "
      ],
      "metadata": {
        "id": "jez52d5YTJX6"
      }
    },
    {
      "cell_type": "code",
      "source": [
        "optimizer = torch.optim.Adam(our_net.parameters(), lr=0.001) # Градиентый спуск Адам..."
      ],
      "metadata": {
        "id": "RrDcw4WzTKnj"
      },
      "execution_count": 304,
      "outputs": []
    },
    {
      "cell_type": "code",
      "source": [
        "# пишем функцию потерь \n",
        "def loss(pred, true):\n",
        "  sq = (pred-true)**2\n",
        "  return sq.mean()"
      ],
      "metadata": {
        "id": "xRhv_qU_TXE5"
      },
      "execution_count": 305,
      "outputs": []
    },
    {
      "cell_type": "code",
      "source": [
        "EPOCH = 10000\n",
        "\n",
        "# обучаем \n",
        "for e in range(EPOCH):\n",
        "  optimizer.zero_grad()\n",
        "\n",
        "  y_pred = our_net.forward(x_train)\n",
        "  loss_vall = loss(y_pred, y_sub_train)\n",
        "\n",
        "  if not e % 1000:\n",
        "    print('Loss - ', loss_vall)\n",
        "\n",
        "  loss_vall.backward()\n",
        "\n",
        "  optimizer.step()\n",
        "\n"
      ],
      "metadata": {
        "colab": {
          "base_uri": "https://localhost:8080/"
        },
        "id": "d8a3MTT2TpAQ",
        "outputId": "83c2f3ad-4234-4079-de68-7c67cad00b9f"
      },
      "execution_count": 306,
      "outputs": [
        {
          "output_type": "stream",
          "name": "stdout",
          "text": [
            "Loss -  tensor(0.2397, grad_fn=<MeanBackward0>)\n",
            "Loss -  tensor(0.1206, grad_fn=<MeanBackward0>)\n",
            "Loss -  tensor(0.0609, grad_fn=<MeanBackward0>)\n",
            "Loss -  tensor(0.0098, grad_fn=<MeanBackward0>)\n",
            "Loss -  tensor(0.0049, grad_fn=<MeanBackward0>)\n",
            "Loss -  tensor(0.0032, grad_fn=<MeanBackward0>)\n",
            "Loss -  tensor(0.0020, grad_fn=<MeanBackward0>)\n",
            "Loss -  tensor(0.0012, grad_fn=<MeanBackward0>)\n",
            "Loss -  tensor(0.0008, grad_fn=<MeanBackward0>)\n",
            "Loss -  tensor(0.0006, grad_fn=<MeanBackward0>)\n"
          ]
        }
      ]
    },
    {
      "cell_type": "code",
      "source": [
        "predict(our_net, x_val, y_val) # обучена"
      ],
      "metadata": {
        "colab": {
          "base_uri": "https://localhost:8080/",
          "height": 374
        },
        "id": "7Qkc_mw4UbRo",
        "outputId": "dd290963-cf42-41a6-b0f0-72726199b8ac"
      },
      "execution_count": 307,
      "outputs": [
        {
          "output_type": "display_data",
          "data": {
            "text/plain": [
              "<Figure size 1800x504 with 1 Axes>"
            ],
            "image/png": "[encoded data removed]"
          },
          "metadata": {
            "needs_background": "light"
          }
        }
      ]
    },
    {
      "cell_type": "code",
      "source": [
        "# выяснилось, что 1 слой даёт результаты лучше чем 4 слоя."
      ],
      "metadata": {
        "id": "5ozA67SvYJF1"
      },
      "execution_count": 241,
      "outputs": []
    },
    {
      "cell_type": "code",
      "source": [],
      "metadata": {
        "id": "3L3sF3TnYh-j"
      },
      "execution_count": 241,
      "outputs": []
    }
  ]
}